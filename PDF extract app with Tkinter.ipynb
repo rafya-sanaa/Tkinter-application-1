{
 "cells": [
  {
   "cell_type": "code",
   "execution_count": 3,
   "metadata": {},
   "outputs": [],
   "source": [
    "import tkinter as tk\n",
    "import PyPDF2\n",
    "from PIL import Image, ImageTk\n",
    "from tkinter.filedialog import askopenfile\n",
    "\n",
    "#print('Is this working?')\n",
    "\n",
    "root = tk.Tk()\n",
    "root.title(\"PDF Extract APPLICATION by RAFYA \")\n",
    "\n",
    "canvas=tk.Canvas(root, width=400, height=100)\n",
    "canvas.grid(columnspan=3, rowspan=3)\n",
    "\n",
    "#logo\n",
    "logo=Image.open('logo.png')\n",
    "logo=ImageTk.PhotoImage(logo)\n",
    "logo_label=tk.Label(image=logo)\n",
    "logo_label.image=logo\n",
    "logo_label.grid(column=1, row=0)\n",
    "\n",
    "#instructions\n",
    "instructions=tk.Label(root,text=\"Select a PDF file on your computer to extract all its text\",font=\"Lucida\")\n",
    "instructions.grid(columnspan=3,column=0, row=1)\n",
    "\n",
    "def open_file():\n",
    "    #print(\"Is this working?\")\n",
    "    browse_text.set(\"loading...\")\n",
    "    file=askopenfile(parent=root, mode='rb', title=\"Choose a file\", filetype=[(\"Pdf file\",\"*.pdf\")])\n",
    "    if file:\n",
    "        #print(\"File was sucessfuly loaded\")\n",
    "        read_pdf= PyPDF2.PdfFileReader(file)\n",
    "        page= read_pdf.getPage(0)\n",
    "        page_content= page.extractText()\n",
    "        print(page_content)\n",
    "        \n",
    "        #text box\n",
    "        text_box=tk.Text(root,height=10, width=50, padx=15, pady=15)\n",
    "        text_box.insert(1.0, page_content)\n",
    "        text_box.tag_configure(\"center\",justify=\"center\")\n",
    "        text_box.tag_add(\"center\",1.0, \"end\")\n",
    "        text_box.grid(column=1, row=3)\n",
    "        \n",
    "        browse_text.set(\"Browse\")\n",
    "    \n",
    "    \n",
    "#browse button\n",
    "browse_text=tk.StringVar()\n",
    "browse_btn= tk.Button(root,textvariable=browse_text,command=lambda:open_file(), font=\"Lucida\", bg=\"#20bebe\", fg=\"white\", height=2, width=15)\n",
    "browse_text.set(\"Browse\")\n",
    "browse_btn.grid(column=1, row=2)\n",
    "\n",
    "canvas=tk.Canvas(root, width=600, height=250)\n",
    "canvas.grid(columnspan=3)\n",
    "\n",
    "root.mainloop()\n"
   ]
  },
  {
   "cell_type": "markdown",
   "metadata": {},
   "source": []
  },
  {
   "cell_type": "code",
   "execution_count": null,
   "metadata": {},
   "outputs": [],
   "source": []
  }
 ],
 "metadata": {
  "kernelspec": {
   "display_name": "Python 3",
   "language": "python",
   "name": "python3"
  },
  "language_info": {
   "codemirror_mode": {
    "name": "ipython",
    "version": 3
   },
   "file_extension": ".py",
   "mimetype": "text/x-python",
   "name": "python",
   "nbconvert_exporter": "python",
   "pygments_lexer": "ipython3",
   "version": "3.8.5"
  }
 },
 "nbformat": 4,
 "nbformat_minor": 4
}
